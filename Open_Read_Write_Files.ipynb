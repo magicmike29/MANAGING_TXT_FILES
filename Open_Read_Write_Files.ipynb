{
 "cells": [
  {
   "cell_type": "markdown",
   "metadata": {},
   "source": [
    "# USE OF OPEN FUNTION TO MANAGE FILES (READ, WRITE, APPEND)"
   ]
  },
  {
   "cell_type": "markdown",
   "metadata": {},
   "source": [
    "### The objective of this exercise is to modify some .txt documents using the open function"
   ]
  },
  {
   "cell_type": "markdown",
   "metadata": {},
   "source": [
    "A local gym has a register of its active members on a .txt document. Every month they update the file by removing the members who are not active. <br>\n",
    "The goal is using the Python **Open** function, automate this process<br>\n"
   ]
  },
  {
   "cell_type": "code",
   "execution_count": 12,
   "metadata": {},
   "outputs": [],
   "source": [
    "'''CODE BLOCK TO GENERATE THE GYM FILES WITH THE ACTUAL MEMBERS AND EX-MEMBERS'''\n",
    "\n",
    "from random import randint as rnd\n",
    "\n",
    "registred_members = 'reg_members.txt'\n",
    "no_registred_members = 'inactive_members.txt'\n",
    "status =['yes','no']\n",
    "\n",
    "def genFiles(current,old):\n",
    "    with open(current,'w+') as writefile: \n",
    "        writefile.write('Membership Number      Date Joined         Active  \\n')\n",
    "        data_format = \"{:^13}  {:^28}  {:<1}\\n\"\n",
    "\n",
    "        for row in range(20):\n",
    "            #Date format: YYYY-MM-DD\n",
    "            date = str(rnd(2015,2020))+ '-' + str(rnd(1,12))+'-'+str(rnd(1,28))\n",
    "            writefile.write(data_format.format(rnd(10000,99999),date,status[rnd(0,1)]))\n",
    "\n",
    "\n",
    "    with open(old,'w+') as writefile: \n",
    "        writefile.write('Membership Number      Date Joined         Active  \\n')\n",
    "        data_format = \"{:^13}  {:^28}  {:<1}\\n\"\n",
    "        for row in range(3):\n",
    "            date = str(rnd(2015,2020))+ '-' + str(rnd(1,12))+'-'+str(rnd(1,28))\n",
    "            writefile.write(data_format.format(rnd(10000,99999),date,status[1]))\n",
    "\n",
    "\n",
    "genFiles(registred_members,no_registred_members)\n"
   ]
  },
  {
   "cell_type": "code",
   "execution_count": 16,
   "metadata": {},
   "outputs": [
    {
     "name": "stdout",
     "output_type": "stream",
     "text": [
      "\n",
      "\n",
      "Active GYM members: \n",
      "\n",
      "Membership Number      Date Joined         Active  \n",
      "    27052               2018-2-22            yes\n",
      "    35426               2018-9-14            yes\n",
      "    73021               2018-7-24            yes\n",
      "    10293               2016-9-10            yes\n",
      "    48652               2020-1-24            yes\n",
      "    81527                2015-4-5            yes\n",
      "    10783               2020-7-27            yes\n",
      "    54923               2020-11-18           yes\n",
      "    59165               2018-1-16            yes\n",
      "\n",
      "\n",
      "\n",
      "GYM ex members: \n",
      "\n",
      "Membership Number      Date Joined         Active  \n",
      "    70602               2016-10-22           no\n",
      "    19777               2019-8-28            no\n",
      "    92864               2016-3-25            no\n",
      "    19488                2018-8-9            no\n",
      "    18470               2016-1-16            no\n",
      "    32429               2015-12-27           no\n",
      "    52205               2019-5-19            no\n",
      "    56939                2017-9-3            no\n",
      "    18896               2018-2-25            no\n",
      "    58540               2020-7-19            no\n",
      "    43599               2016-12-25           no\n",
      "    93355               2018-12-24           no\n",
      "    95787               2018-1-18            no\n",
      "    40646               2015-5-22            no\n",
      "\n"
     ]
    }
   ],
   "source": [
    "'''CODE BLOCK TO PERFORM THE GIVEN TASK'''\n",
    "\n",
    "def cleanFiles(registered,exmembers):\n",
    "    with open(registered,\"r+\") as main_file:\n",
    "        with open(exmembers,\"a+\") as inactive_file:\n",
    "\n",
    "            main_file.seek(0,0)\n",
    "            members=main_file.readlines()\n",
    "            header=members[0]\n",
    "            members.pop(0)\n",
    "\n",
    "            inactive=[member for member in members if (\"no\" in member)]\n",
    "\n",
    "            main_file.seek(0,0)\n",
    "            main_file.write(header)\n",
    "            for member in members:\n",
    "                if member in inactive:\n",
    "                    inactive_file.write(member)\n",
    "                else:\n",
    "                    main_file.write(member)\n",
    "            main_file.truncate()\n",
    "\n",
    "cleanFiles('reg_members.txt','inactive_members.txt')\n",
    "\n",
    "with open('reg_members.txt',\"r\") as active_members:\n",
    "    print(\"\\n\")\n",
    "    print(\"Active GYM members: \\n\")\n",
    "    print(active_members.read())\n",
    "    print(\"\\n\")\n",
    "\n",
    "with open('inactive_members.txt',\"r\") as ex_members:\n",
    "    print(\"GYM ex members: \\n\")\n",
    "    print(ex_members.read())"
   ]
  }
 ],
 "metadata": {
  "kernelspec": {
   "display_name": "Python 3.10.3 64-bit",
   "language": "python",
   "name": "python3"
  },
  "language_info": {
   "codemirror_mode": {
    "name": "ipython",
    "version": 3
   },
   "file_extension": ".py",
   "mimetype": "text/x-python",
   "name": "python",
   "nbconvert_exporter": "python",
   "pygments_lexer": "ipython3",
   "version": "3.10.3"
  },
  "orig_nbformat": 4,
  "vscode": {
   "interpreter": {
    "hash": "0eee2fbb4b2a29459cb3b76ce4fe0566e4223da365c76c9af49a70e5b86c1cab"
   }
  }
 },
 "nbformat": 4,
 "nbformat_minor": 2
}
